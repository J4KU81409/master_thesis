{
 "cells": [
  {
   "cell_type": "code",
   "execution_count": null,
   "id": "0b7231c9",
   "metadata": {},
   "outputs": [],
   "source": [
    "import numpy as np\n",
    "import pandas as pd\n",
    "from pykalman import KalmanFilter\n",
    "import matplotlib.pyplot as plt\n",
    "import statsmodels.api as sm\n",
    "\n",
    "from cointegration_functions import *\n",
    "\n",
    "stocks = pd.read_csv(\"C:/Users/adamt/OneDrive/Desktop/Jakub/masterThesis/stocks.csv\",index_col = 0)\n",
    "#stocks = pd.read_csv(\"C:/Users/adamt/OneDrive - Wirtschaftsuniversität Wien - IT-SERVICES/Desktop/masterThesis/stocks.csv\", index_col = 0)\n",
    "stocks_norm = normalize(stocks[:700])\n",
    "stocks_formation = stocks_norm[:500]\n",
    "stocks_trading = stocks_norm[501:700]\n",
    "pairs = calculate_and_sort_ssd(stocks_formation)\n",
    "portfolio = select_cointegrated_pairs(stocks_formation,pairs)\n",
    "spread_df, spread_df_norm = calculate_portfolio_spread(stocks_trading, portfolio)"
   ]
  },
  {
   "cell_type": "code",
   "execution_count": null,
   "id": "ada93387",
   "metadata": {},
   "outputs": [],
   "source": [
    "result_df, trade_counts_df = trade_portfolio(spread_df, spread_df_norm,useTransactionCosts= False)\n",
    "result_df_costs, trade_counts_df = trade_portfolio(spread_df, spread_df_norm,useTransactionCosts= True)\n",
    "result_df - result_df_costs # this should be just the transaction costs"
   ]
  }
 ],
 "metadata": {
  "kernelspec": {
   "display_name": "Python 3",
   "language": "python",
   "name": "python3"
  },
  "language_info": {
   "codemirror_mode": {
    "name": "ipython",
    "version": 3
   },
   "file_extension": ".py",
   "mimetype": "text/x-python",
   "name": "python",
   "nbconvert_exporter": "python",
   "pygments_lexer": "ipython3",
   "version": "3.12.6"
  }
 },
 "nbformat": 4,
 "nbformat_minor": 5
}
